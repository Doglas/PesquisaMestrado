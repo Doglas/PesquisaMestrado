{
  "nbformat": 4,
  "nbformat_minor": 0,
  "metadata": {
    "colab": {
      "name": "MLMestradoProducao.ipynb",
      "provenance": [],
      "collapsed_sections": []
    },
    "kernelspec": {
      "display_name": "Python 3",
      "name": "python3"
    },
    "language_info": {
      "name": "python"
    }
  },
  "cells": [
    {
      "cell_type": "markdown",
      "metadata": {
        "id": "0IhvdhrT5ZUn"
      },
      "source": [
        "\n",
        "# **Construção Modelo Aprendizado de Máquina - Doglas**\n",
        "\n",
        "\n",
        "\n",
        "\n"
      ]
    },
    {
      "cell_type": "markdown",
      "metadata": {
        "id": "DGaLYGpy5lOm"
      },
      "source": [
        "**Carregamento das Bibliotecas**"
      ]
    },
    {
      "cell_type": "code",
      "metadata": {
        "id": "Bw4_XAnq5WaI"
      },
      "source": [
        "import numpy as np\n",
        "import pandas as pd\n",
        "\n",
        "from matplotlib import pyplot as plt\n",
        "\n",
        "import seaborn as sns\n",
        "\n",
        "from sklearn.model_selection import train_test_split\n",
        "from sklearn.neighbors import KNeighborsClassifier\n",
        "from sklearn import tree\n",
        "from sklearn.naive_bayes import GaussianNB\n",
        "from sklearn.linear_model import LogisticRegression\n",
        "from sklearn.metrics import confusion_matrix, classification_report\n",
        "\n",
        "from xgboost import XGBClassifier\n",
        "\n",
        "from joblib import dump, load"
      ],
      "execution_count": null,
      "outputs": []
    },
    {
      "cell_type": "markdown",
      "metadata": {
        "id": "mIQSWkjc53st"
      },
      "source": [
        "**Carregamento do Arquivo (Dataset)**"
      ]
    },
    {
      "cell_type": "code",
      "metadata": {
        "colab": {
          "base_uri": "https://localhost:8080/",
          "height": 204
        },
        "id": "Z6oNwoZb59Wn",
        "outputId": "6c5fd8b3-decd-4785-f612-73f6ebacf71c"
      },
      "source": [
        "df = pd.read_csv(\"CSVTarefas.csv\")\n",
        "df.head()"
      ],
      "execution_count": null,
      "outputs": [
        {
          "output_type": "execute_result",
          "data": {
            "text/html": [
              "<div>\n",
              "<style scoped>\n",
              "    .dataframe tbody tr th:only-of-type {\n",
              "        vertical-align: middle;\n",
              "    }\n",
              "\n",
              "    .dataframe tbody tr th {\n",
              "        vertical-align: top;\n",
              "    }\n",
              "\n",
              "    .dataframe thead th {\n",
              "        text-align: right;\n",
              "    }\n",
              "</style>\n",
              "<table border=\"1\" class=\"dataframe\">\n",
              "  <thead>\n",
              "    <tr style=\"text-align: right;\">\n",
              "      <th></th>\n",
              "      <th>verbo_inicial</th>\n",
              "      <th>substantivo</th>\n",
              "      <th>categoria</th>\n",
              "      <th>subcategoria</th>\n",
              "      <th>horas</th>\n",
              "    </tr>\n",
              "  </thead>\n",
              "  <tbody>\n",
              "    <tr>\n",
              "      <th>0</th>\n",
              "      <td>Adicionar</td>\n",
              "      <td>Auditoria</td>\n",
              "      <td>Operacional</td>\n",
              "      <td>Suporte Interno</td>\n",
              "      <td>0.70</td>\n",
              "    </tr>\n",
              "    <tr>\n",
              "      <th>1</th>\n",
              "      <td>Adicionar</td>\n",
              "      <td>Auditoria</td>\n",
              "      <td>Desenvolvimento</td>\n",
              "      <td>Aprimoramento</td>\n",
              "      <td>4.00</td>\n",
              "    </tr>\n",
              "    <tr>\n",
              "      <th>2</th>\n",
              "      <td>Adicionar</td>\n",
              "      <td>Botão</td>\n",
              "      <td>Desenvolvimento</td>\n",
              "      <td>Erro</td>\n",
              "      <td>1.00</td>\n",
              "    </tr>\n",
              "    <tr>\n",
              "      <th>3</th>\n",
              "      <td>Adicionar</td>\n",
              "      <td>Botão</td>\n",
              "      <td>Desenvolvimento</td>\n",
              "      <td>Aprimoramento</td>\n",
              "      <td>2.25</td>\n",
              "    </tr>\n",
              "    <tr>\n",
              "      <th>4</th>\n",
              "      <td>Adicionar</td>\n",
              "      <td>Botão</td>\n",
              "      <td>Desenvolvimento</td>\n",
              "      <td>Aprimoramento</td>\n",
              "      <td>2.62</td>\n",
              "    </tr>\n",
              "  </tbody>\n",
              "</table>\n",
              "</div>"
            ],
            "text/plain": [
              "  verbo_inicial substantivo        categoria     subcategoria  horas\n",
              "0     Adicionar   Auditoria      Operacional  Suporte Interno   0.70\n",
              "1     Adicionar   Auditoria  Desenvolvimento    Aprimoramento   4.00\n",
              "2     Adicionar       Botão  Desenvolvimento             Erro   1.00\n",
              "3     Adicionar       Botão  Desenvolvimento    Aprimoramento   2.25\n",
              "4     Adicionar       Botão  Desenvolvimento    Aprimoramento   2.62"
            ]
          },
          "metadata": {},
          "execution_count": 2
        }
      ]
    },
    {
      "cell_type": "code",
      "metadata": {
        "colab": {
          "base_uri": "https://localhost:8080/",
          "height": 204
        },
        "id": "l3tHHh5q63z7",
        "outputId": "cf19c782-b1dc-4744-a9b8-2a257fcd8dde"
      },
      "source": [
        "df.tail()"
      ],
      "execution_count": null,
      "outputs": [
        {
          "output_type": "execute_result",
          "data": {
            "text/html": [
              "<div>\n",
              "<style scoped>\n",
              "    .dataframe tbody tr th:only-of-type {\n",
              "        vertical-align: middle;\n",
              "    }\n",
              "\n",
              "    .dataframe tbody tr th {\n",
              "        vertical-align: top;\n",
              "    }\n",
              "\n",
              "    .dataframe thead th {\n",
              "        text-align: right;\n",
              "    }\n",
              "</style>\n",
              "<table border=\"1\" class=\"dataframe\">\n",
              "  <thead>\n",
              "    <tr style=\"text-align: right;\">\n",
              "      <th></th>\n",
              "      <th>verbo_inicial</th>\n",
              "      <th>substantivo</th>\n",
              "      <th>categoria</th>\n",
              "      <th>subcategoria</th>\n",
              "      <th>horas</th>\n",
              "    </tr>\n",
              "  </thead>\n",
              "  <tbody>\n",
              "    <tr>\n",
              "      <th>1037</th>\n",
              "      <td>Verificar</td>\n",
              "      <td>Servidor</td>\n",
              "      <td>Operacional</td>\n",
              "      <td>Suporte Interno</td>\n",
              "      <td>2.5</td>\n",
              "    </tr>\n",
              "    <tr>\n",
              "      <th>1038</th>\n",
              "      <td>Verificar</td>\n",
              "      <td>Servidor</td>\n",
              "      <td>Operacional</td>\n",
              "      <td>Suporte Interno</td>\n",
              "      <td>2.5</td>\n",
              "    </tr>\n",
              "    <tr>\n",
              "      <th>1039</th>\n",
              "      <td>Verificar</td>\n",
              "      <td>Servidor</td>\n",
              "      <td>Operacional</td>\n",
              "      <td>Suporte Interno</td>\n",
              "      <td>2.5</td>\n",
              "    </tr>\n",
              "    <tr>\n",
              "      <th>1040</th>\n",
              "      <td>Verificar</td>\n",
              "      <td>Servidor</td>\n",
              "      <td>Operacional</td>\n",
              "      <td>Suporte Interno</td>\n",
              "      <td>2.5</td>\n",
              "    </tr>\n",
              "    <tr>\n",
              "      <th>1041</th>\n",
              "      <td>Verificar</td>\n",
              "      <td>Servidor</td>\n",
              "      <td>Operacional</td>\n",
              "      <td>Suporte Interno</td>\n",
              "      <td>2.5</td>\n",
              "    </tr>\n",
              "  </tbody>\n",
              "</table>\n",
              "</div>"
            ],
            "text/plain": [
              "     verbo_inicial substantivo    categoria     subcategoria  horas\n",
              "1037     Verificar    Servidor  Operacional  Suporte Interno    2.5\n",
              "1038     Verificar    Servidor  Operacional  Suporte Interno    2.5\n",
              "1039     Verificar    Servidor  Operacional  Suporte Interno    2.5\n",
              "1040     Verificar    Servidor  Operacional  Suporte Interno    2.5\n",
              "1041     Verificar    Servidor  Operacional  Suporte Interno    2.5"
            ]
          },
          "metadata": {},
          "execution_count": 3
        }
      ]
    },
    {
      "cell_type": "markdown",
      "metadata": {
        "id": "fjOHPJRr8VIe"
      },
      "source": [
        "**Preparação dos Dados**\n",
        "\n",
        "Neste momento serão convertidas as variáveis descritivas para valores"
      ]
    },
    {
      "cell_type": "code",
      "metadata": {
        "id": "50ZcPA0081lR"
      },
      "source": [
        "df['verbo_inicial'] = df['verbo_inicial'].apply(lambda x: 1 if x == 'Adicionar' \n",
        "                                                else 2 if x == 'Aprender'\n",
        "                                                else 3 if x == 'Atualizar'\n",
        "                                                else 4 if x == 'Automatizar'\n",
        "                                                else 5 if x == 'Backup'\n",
        "                                                else 6 if x == 'Configurar'\n",
        "                                                else 7 if x == 'Converter'\n",
        "                                                else 8 if x == 'Corrigir'\n",
        "                                                else 9 if x == 'Criar'\n",
        "                                                else 10 if x == 'Definir'\n",
        "                                                else 11 if x == 'Escrever'\n",
        "                                                else 12 if x == 'Instalar'\n",
        "                                                else 13 if x == 'Investigar'\n",
        "                                                else 14 if x == 'Melhorar'\n",
        "                                                else 15 if x == 'Mesclar'\n",
        "                                                else 16 if x == 'Migrar'\n",
        "                                                else 17 if x == 'Obter'\n",
        "                                                else 18 if x == 'Organizar'\n",
        "                                                else 19 if x == 'Permitir'\n",
        "                                                else 20 if x == 'Pesquisa'\n",
        "                                                else 21 if x == 'Remover'\n",
        "                                                else 22 if x == 'Reunião'\n",
        "                                                else 23 if x == 'Semana'\n",
        "                                                else 24 if x == 'Sincronizar'\n",
        "                                                else 25 if x == 'Suporte'\n",
        "                                                else 26 if x == 'Testar'\n",
        "                                                else 27 if x == 'Treinamento'\n",
        "                                                else 28 if x == 'Validar'\n",
        "                                                else 29)"
      ],
      "execution_count": null,
      "outputs": []
    },
    {
      "cell_type": "code",
      "metadata": {
        "colab": {
          "base_uri": "https://localhost:8080/"
        },
        "id": "AqMzcyCR8tK4",
        "outputId": "c6406794-4404-466d-cc45-c375d71c4731"
      },
      "source": [
        "df['verbo_inicial'].value_counts()"
      ],
      "execution_count": null,
      "outputs": [
        {
          "output_type": "execute_result",
          "data": {
            "text/plain": [
              "25    148\n",
              "22    130\n",
              "8      87\n",
              "29     83\n",
              "1      79\n",
              "3      72\n",
              "9      66\n",
              "13     56\n",
              "26     52\n",
              "6      36\n",
              "18     28\n",
              "17     22\n",
              "19     21\n",
              "14     18\n",
              "24     17\n",
              "12     16\n",
              "5      15\n",
              "21     15\n",
              "11     14\n",
              "23     11\n",
              "15     11\n",
              "7       9\n",
              "16      8\n",
              "20      7\n",
              "28      5\n",
              "2       5\n",
              "10      4\n",
              "27      4\n",
              "4       3\n",
              "Name: verbo_inicial, dtype: int64"
            ]
          },
          "metadata": {},
          "execution_count": 5
        }
      ]
    },
    {
      "cell_type": "code",
      "metadata": {
        "id": "oeTN160J9bXu"
      },
      "source": [
        "df['categoria'] = df['categoria'].apply(lambda x: 1 if x == 'Desenvolvimento' \n",
        "                                        else 2 if x == 'Gestão' \n",
        "                                        else 3)"
      ],
      "execution_count": null,
      "outputs": []
    },
    {
      "cell_type": "code",
      "metadata": {
        "colab": {
          "base_uri": "https://localhost:8080/"
        },
        "id": "iJn9Yozs9gwF",
        "outputId": "aa954e43-1599-4e82-e73d-2423c4489b41"
      },
      "source": [
        "df['categoria'].value_counts()"
      ],
      "execution_count": null,
      "outputs": [
        {
          "output_type": "execute_result",
          "data": {
            "text/plain": [
              "1    621\n",
              "3    283\n",
              "2    138\n",
              "Name: categoria, dtype: int64"
            ]
          },
          "metadata": {},
          "execution_count": 7
        }
      ]
    },
    {
      "cell_type": "code",
      "metadata": {
        "id": "tKOJc1B7HtaX"
      },
      "source": [
        "df['subcategoria']=df['subcategoria'].apply(lambda x: 1 if x == 'Aprimoramento' \n",
        "                                        else 2 if x == 'Consultoria' \n",
        "                                        else 3 if x == 'Documentação'\n",
        "                                        else 4 if x == 'Erro'\n",
        "                                        else 5 if x == 'Lançamento'\n",
        "                                        else 6 if x == 'Marketing'\n",
        "                                        else 7 if x == 'Reunião de Gestão'\n",
        "                                        else 8 if x == 'Reunião de progresso'\n",
        "                                        else 9 if x == 'Suporte ao Cliente'\n",
        "                                        else 10 if x == 'Suporte Interno'\n",
        "                                        else 11 if x == 'Teste'\n",
        "                                        else 12)"
      ],
      "execution_count": null,
      "outputs": []
    },
    {
      "cell_type": "code",
      "metadata": {
        "colab": {
          "base_uri": "https://localhost:8080/"
        },
        "id": "fbt3Rd049onv",
        "outputId": "87871512-1d2d-42db-a10a-08eb7d39f850"
      },
      "source": [
        "df['subcategoria'].value_counts()"
      ],
      "execution_count": null,
      "outputs": [
        {
          "output_type": "execute_result",
          "data": {
            "text/plain": [
              "1     271\n",
              "10    253\n",
              "4     138\n",
              "9     101\n",
              "6      61\n",
              "7      46\n",
              "5      45\n",
              "12     37\n",
              "11     34\n",
              "8      23\n",
              "3      18\n",
              "2      15\n",
              "Name: subcategoria, dtype: int64"
            ]
          },
          "metadata": {},
          "execution_count": 9
        }
      ]
    },
    {
      "cell_type": "code",
      "metadata": {
        "colab": {
          "base_uri": "https://localhost:8080/"
        },
        "id": "od6C2XfOG9x4",
        "outputId": "746dcecc-c16e-4883-ea5f-35fd0340d8ba"
      },
      "source": [
        "df['verbo_inicial'].unique()"
      ],
      "execution_count": null,
      "outputs": [
        {
          "output_type": "execute_result",
          "data": {
            "text/plain": [
              "array([ 1,  2,  3,  4,  5,  6,  7,  8,  9, 10, 11, 12, 13, 14, 15, 16, 17,\n",
              "       18, 19, 20, 21, 22, 23, 24, 25, 26, 27, 28, 29])"
            ]
          },
          "metadata": {},
          "execution_count": 10
        }
      ]
    },
    {
      "cell_type": "code",
      "metadata": {
        "colab": {
          "base_uri": "https://localhost:8080/"
        },
        "id": "5yUjFuDvG71f",
        "outputId": "c3bd9bdf-8384-44c1-db27-1bce76824af8"
      },
      "source": [
        "df['categoria'].unique()"
      ],
      "execution_count": null,
      "outputs": [
        {
          "output_type": "execute_result",
          "data": {
            "text/plain": [
              "array([3, 1, 2])"
            ]
          },
          "metadata": {},
          "execution_count": 11
        }
      ]
    },
    {
      "cell_type": "code",
      "metadata": {
        "colab": {
          "base_uri": "https://localhost:8080/"
        },
        "id": "_wbi2qy3Irlw",
        "outputId": "222d2e85-90ad-44d4-e896-1855f42d3045"
      },
      "source": [
        "df['subcategoria'].unique()"
      ],
      "execution_count": null,
      "outputs": [
        {
          "output_type": "execute_result",
          "data": {
            "text/plain": [
              "array([10,  1,  4,  5,  9,  6,  2, 12,  3, 11,  7,  8])"
            ]
          },
          "metadata": {},
          "execution_count": 12
        }
      ]
    },
    {
      "cell_type": "markdown",
      "metadata": {
        "id": "Tn2F1a-ibLX7"
      },
      "source": [
        "**Tratamento do Substantivo**\n"
      ]
    },
    {
      "cell_type": "code",
      "metadata": {
        "id": "SuPkuRcJbHqt"
      },
      "source": [
        "from sklearn.preprocessing import OrdinalEncoder\n",
        "\n",
        "enc = OrdinalEncoder()\n",
        "X = df[['substantivo']]\n",
        "enc.fit(X)\n",
        "OrdinalEncoder()\n",
        "df[['substantivo']] = enc.transform(df[['substantivo']])"
      ],
      "execution_count": null,
      "outputs": []
    },
    {
      "cell_type": "code",
      "metadata": {
        "colab": {
          "base_uri": "https://localhost:8080/"
        },
        "id": "6syIM4oh2mb0",
        "outputId": "3337e0c1-acaf-45be-cf08-a8de86313e85"
      },
      "source": [
        "df['substantivo'].unique()"
      ],
      "execution_count": null,
      "outputs": [
        {
          "output_type": "execute_result",
          "data": {
            "text/plain": [
              "array([ 12.,  15.,  22.,  24.,  25.,  26.,  30.,  31.,  44.,  49.,  52.,\n",
              "        57.,  58.,  62.,  66.,  68.,  71.,  75.,  81.,  84.,  88.,  89.,\n",
              "        90.,  91., 102., 103., 105., 107., 111., 115., 118., 123., 124.,\n",
              "       125., 129., 130., 136., 143., 145., 148., 149., 157., 161., 163.,\n",
              "       168., 169., 171., 172., 175., 179., 180., 181., 182., 188., 190.,\n",
              "       195., 196.,  17.,  18.,  55.,   0.,  14.,  47.,  28.,  29.,  32.,\n",
              "        36.,  41.,  42.,  45.,  51.,  76.,  77.,  85.,  87., 101., 110.,\n",
              "       116., 121., 122., 137., 139., 166., 173., 174., 176., 187., 193.,\n",
              "       197., 147.,  61., 100.,   4.,   9.,  13.,  48., 184.,  93., 113.,\n",
              "       126.,   1.,  10.,  21.,  33.,  38.,  39.,  40.,  43.,  50.,  59.,\n",
              "        64.,  65.,  72., 104., 106., 128., 159., 160., 178., 183., 191.,\n",
              "       194.,   7.,  37.,  19.,  70.,  80.,  83.,  94., 108., 117., 119.,\n",
              "       142., 131., 132., 133., 134., 138., 151., 158., 189.,  69.,   3.,\n",
              "       177.,  60.,  73., 135.,  34.,  53.,  56.,  74.,  78.,  92.,  95.,\n",
              "        99., 152., 164., 192.,  20.,  35.,  82., 112., 153.,   6.,  23.,\n",
              "        79.,  46.,  67.,  96., 114., 141., 150., 154.,   2.,   8.,  11.,\n",
              "       109.,  27.,  98.,  63.,  86., 127., 140., 165., 185., 186.,  54.,\n",
              "         5., 167., 170., 146., 155.,  16.,  97., 120., 144., 156., 162.])"
            ]
          },
          "metadata": {},
          "execution_count": 14
        }
      ]
    },
    {
      "cell_type": "code",
      "metadata": {
        "colab": {
          "base_uri": "https://localhost:8080/",
          "height": 204
        },
        "id": "-P0CQvOF-w3p",
        "outputId": "bdfc5b88-f21d-4676-bf80-b57b142fc311"
      },
      "source": [
        "df.head()"
      ],
      "execution_count": null,
      "outputs": [
        {
          "output_type": "execute_result",
          "data": {
            "text/html": [
              "<div>\n",
              "<style scoped>\n",
              "    .dataframe tbody tr th:only-of-type {\n",
              "        vertical-align: middle;\n",
              "    }\n",
              "\n",
              "    .dataframe tbody tr th {\n",
              "        vertical-align: top;\n",
              "    }\n",
              "\n",
              "    .dataframe thead th {\n",
              "        text-align: right;\n",
              "    }\n",
              "</style>\n",
              "<table border=\"1\" class=\"dataframe\">\n",
              "  <thead>\n",
              "    <tr style=\"text-align: right;\">\n",
              "      <th></th>\n",
              "      <th>verbo_inicial</th>\n",
              "      <th>substantivo</th>\n",
              "      <th>categoria</th>\n",
              "      <th>subcategoria</th>\n",
              "      <th>horas</th>\n",
              "    </tr>\n",
              "  </thead>\n",
              "  <tbody>\n",
              "    <tr>\n",
              "      <th>0</th>\n",
              "      <td>1</td>\n",
              "      <td>12.0</td>\n",
              "      <td>3</td>\n",
              "      <td>10</td>\n",
              "      <td>0.70</td>\n",
              "    </tr>\n",
              "    <tr>\n",
              "      <th>1</th>\n",
              "      <td>1</td>\n",
              "      <td>12.0</td>\n",
              "      <td>1</td>\n",
              "      <td>1</td>\n",
              "      <td>4.00</td>\n",
              "    </tr>\n",
              "    <tr>\n",
              "      <th>2</th>\n",
              "      <td>1</td>\n",
              "      <td>15.0</td>\n",
              "      <td>1</td>\n",
              "      <td>4</td>\n",
              "      <td>1.00</td>\n",
              "    </tr>\n",
              "    <tr>\n",
              "      <th>3</th>\n",
              "      <td>1</td>\n",
              "      <td>15.0</td>\n",
              "      <td>1</td>\n",
              "      <td>1</td>\n",
              "      <td>2.25</td>\n",
              "    </tr>\n",
              "    <tr>\n",
              "      <th>4</th>\n",
              "      <td>1</td>\n",
              "      <td>15.0</td>\n",
              "      <td>1</td>\n",
              "      <td>1</td>\n",
              "      <td>2.62</td>\n",
              "    </tr>\n",
              "  </tbody>\n",
              "</table>\n",
              "</div>"
            ],
            "text/plain": [
              "   verbo_inicial  substantivo  categoria  subcategoria  horas\n",
              "0              1         12.0          3            10   0.70\n",
              "1              1         12.0          1             1   4.00\n",
              "2              1         15.0          1             4   1.00\n",
              "3              1         15.0          1             1   2.25\n",
              "4              1         15.0          1             1   2.62"
            ]
          },
          "metadata": {},
          "execution_count": 15
        }
      ]
    },
    {
      "cell_type": "code",
      "metadata": {
        "colab": {
          "base_uri": "https://localhost:8080/",
          "height": 204
        },
        "id": "SReY9yztGeLh",
        "outputId": "d57adde1-6d5c-49a7-c216-91bb6f2d1299"
      },
      "source": [
        "df.tail()"
      ],
      "execution_count": null,
      "outputs": [
        {
          "output_type": "execute_result",
          "data": {
            "text/html": [
              "<div>\n",
              "<style scoped>\n",
              "    .dataframe tbody tr th:only-of-type {\n",
              "        vertical-align: middle;\n",
              "    }\n",
              "\n",
              "    .dataframe tbody tr th {\n",
              "        vertical-align: top;\n",
              "    }\n",
              "\n",
              "    .dataframe thead th {\n",
              "        text-align: right;\n",
              "    }\n",
              "</style>\n",
              "<table border=\"1\" class=\"dataframe\">\n",
              "  <thead>\n",
              "    <tr style=\"text-align: right;\">\n",
              "      <th></th>\n",
              "      <th>verbo_inicial</th>\n",
              "      <th>substantivo</th>\n",
              "      <th>categoria</th>\n",
              "      <th>subcategoria</th>\n",
              "      <th>horas</th>\n",
              "    </tr>\n",
              "  </thead>\n",
              "  <tbody>\n",
              "    <tr>\n",
              "      <th>1037</th>\n",
              "      <td>29</td>\n",
              "      <td>166.0</td>\n",
              "      <td>3</td>\n",
              "      <td>10</td>\n",
              "      <td>2.5</td>\n",
              "    </tr>\n",
              "    <tr>\n",
              "      <th>1038</th>\n",
              "      <td>29</td>\n",
              "      <td>166.0</td>\n",
              "      <td>3</td>\n",
              "      <td>10</td>\n",
              "      <td>2.5</td>\n",
              "    </tr>\n",
              "    <tr>\n",
              "      <th>1039</th>\n",
              "      <td>29</td>\n",
              "      <td>166.0</td>\n",
              "      <td>3</td>\n",
              "      <td>10</td>\n",
              "      <td>2.5</td>\n",
              "    </tr>\n",
              "    <tr>\n",
              "      <th>1040</th>\n",
              "      <td>29</td>\n",
              "      <td>166.0</td>\n",
              "      <td>3</td>\n",
              "      <td>10</td>\n",
              "      <td>2.5</td>\n",
              "    </tr>\n",
              "    <tr>\n",
              "      <th>1041</th>\n",
              "      <td>29</td>\n",
              "      <td>166.0</td>\n",
              "      <td>3</td>\n",
              "      <td>10</td>\n",
              "      <td>2.5</td>\n",
              "    </tr>\n",
              "  </tbody>\n",
              "</table>\n",
              "</div>"
            ],
            "text/plain": [
              "      verbo_inicial  substantivo  categoria  subcategoria  horas\n",
              "1037             29        166.0          3            10    2.5\n",
              "1038             29        166.0          3            10    2.5\n",
              "1039             29        166.0          3            10    2.5\n",
              "1040             29        166.0          3            10    2.5\n",
              "1041             29        166.0          3            10    2.5"
            ]
          },
          "metadata": {},
          "execution_count": 16
        }
      ]
    },
    {
      "cell_type": "markdown",
      "metadata": {
        "id": "--vrvI_CRc1f"
      },
      "source": [
        "**Codificar variável alvo**\n",
        "\n",
        "Optou-se por seguir a base da sequência de Fibonacci (Fibonacci Modificado), usando tais valores para classificações em horas: 1/2, 1, 2, 3, 5, 8, 13, 20, 40 e 100. Esta classificação é usada em diversas ferramentas manuais ou digitais para utilização do Planning Poker.\n",
        "(https://planningpokeronline.com/)"
      ]
    },
    {
      "cell_type": "markdown",
      "metadata": {
        "id": "yRrTA4bmsJpu"
      },
      "source": [
        "A função abaixo converte a variável alvo para sua categoria correspondente. Obs: A categoria 0, refere-se à estimativa 1/2. As demais categorias são as próprias cargas horárias."
      ]
    },
    {
      "cell_type": "code",
      "metadata": {
        "id": "Yc3IADygRuns"
      },
      "source": [
        "def categorizaTarget(s):\n",
        "    if s <= 1.5:\n",
        "       return int(0)\n",
        "    elif s > 1.5 and s <= 4.5:\n",
        "       return int(1)\n",
        "    elif s > 4.5 and s <= 9.5:\n",
        "       return int(2)\n",
        "    elif s > 9.5:\n",
        "       return int(3)"
      ],
      "execution_count": null,
      "outputs": []
    },
    {
      "cell_type": "code",
      "metadata": {
        "id": "zlmPx7T2tLNl"
      },
      "source": [
        "df['horas'] = df['horas'].apply(categorizaTarget)"
      ],
      "execution_count": null,
      "outputs": []
    },
    {
      "cell_type": "code",
      "metadata": {
        "colab": {
          "base_uri": "https://localhost:8080/",
          "height": 204
        },
        "id": "S5AsKt46uDZI",
        "outputId": "9b626ddf-f4c5-4497-cc40-537ad48f89a8"
      },
      "source": [
        "df.head()"
      ],
      "execution_count": null,
      "outputs": [
        {
          "output_type": "execute_result",
          "data": {
            "text/html": [
              "<div>\n",
              "<style scoped>\n",
              "    .dataframe tbody tr th:only-of-type {\n",
              "        vertical-align: middle;\n",
              "    }\n",
              "\n",
              "    .dataframe tbody tr th {\n",
              "        vertical-align: top;\n",
              "    }\n",
              "\n",
              "    .dataframe thead th {\n",
              "        text-align: right;\n",
              "    }\n",
              "</style>\n",
              "<table border=\"1\" class=\"dataframe\">\n",
              "  <thead>\n",
              "    <tr style=\"text-align: right;\">\n",
              "      <th></th>\n",
              "      <th>verbo_inicial</th>\n",
              "      <th>substantivo</th>\n",
              "      <th>categoria</th>\n",
              "      <th>subcategoria</th>\n",
              "      <th>horas</th>\n",
              "    </tr>\n",
              "  </thead>\n",
              "  <tbody>\n",
              "    <tr>\n",
              "      <th>0</th>\n",
              "      <td>1</td>\n",
              "      <td>12.0</td>\n",
              "      <td>3</td>\n",
              "      <td>10</td>\n",
              "      <td>0</td>\n",
              "    </tr>\n",
              "    <tr>\n",
              "      <th>1</th>\n",
              "      <td>1</td>\n",
              "      <td>12.0</td>\n",
              "      <td>1</td>\n",
              "      <td>1</td>\n",
              "      <td>1</td>\n",
              "    </tr>\n",
              "    <tr>\n",
              "      <th>2</th>\n",
              "      <td>1</td>\n",
              "      <td>15.0</td>\n",
              "      <td>1</td>\n",
              "      <td>4</td>\n",
              "      <td>0</td>\n",
              "    </tr>\n",
              "    <tr>\n",
              "      <th>3</th>\n",
              "      <td>1</td>\n",
              "      <td>15.0</td>\n",
              "      <td>1</td>\n",
              "      <td>1</td>\n",
              "      <td>1</td>\n",
              "    </tr>\n",
              "    <tr>\n",
              "      <th>4</th>\n",
              "      <td>1</td>\n",
              "      <td>15.0</td>\n",
              "      <td>1</td>\n",
              "      <td>1</td>\n",
              "      <td>1</td>\n",
              "    </tr>\n",
              "  </tbody>\n",
              "</table>\n",
              "</div>"
            ],
            "text/plain": [
              "   verbo_inicial  substantivo  categoria  subcategoria  horas\n",
              "0              1         12.0          3            10      0\n",
              "1              1         12.0          1             1      1\n",
              "2              1         15.0          1             4      0\n",
              "3              1         15.0          1             1      1\n",
              "4              1         15.0          1             1      1"
            ]
          },
          "metadata": {},
          "execution_count": 19
        }
      ]
    },
    {
      "cell_type": "code",
      "metadata": {
        "colab": {
          "base_uri": "https://localhost:8080/"
        },
        "id": "j8wDtiBouRv6",
        "outputId": "5cd14604-6f77-4f4c-c779-90398905f0a5"
      },
      "source": [
        "df['horas'].unique()"
      ],
      "execution_count": null,
      "outputs": [
        {
          "output_type": "execute_result",
          "data": {
            "text/plain": [
              "array([0, 1, 2, 3])"
            ]
          },
          "metadata": {},
          "execution_count": 20
        }
      ]
    },
    {
      "cell_type": "code",
      "metadata": {
        "colab": {
          "base_uri": "https://localhost:8080/"
        },
        "id": "ivKsQ_jNuYuz",
        "outputId": "00794d63-f7e2-4a80-bedc-64f4fb3331e2"
      },
      "source": [
        "df['horas'].value_counts()"
      ],
      "execution_count": null,
      "outputs": [
        {
          "output_type": "execute_result",
          "data": {
            "text/plain": [
              "1    369\n",
              "0    367\n",
              "2    177\n",
              "3    129\n",
              "Name: horas, dtype: int64"
            ]
          },
          "metadata": {},
          "execution_count": 21
        }
      ]
    },
    {
      "cell_type": "markdown",
      "metadata": {
        "id": "TpTvUQCFvVX9"
      },
      "source": [
        "**Resumo dos dados**"
      ]
    },
    {
      "cell_type": "code",
      "metadata": {
        "colab": {
          "base_uri": "https://localhost:8080/",
          "height": 297
        },
        "id": "ixgNQF8rvZl6",
        "outputId": "ed266ea6-6df2-4103-edee-4e3226f1c15f"
      },
      "source": [
        "df.describe()"
      ],
      "execution_count": null,
      "outputs": [
        {
          "output_type": "execute_result",
          "data": {
            "text/html": [
              "<div>\n",
              "<style scoped>\n",
              "    .dataframe tbody tr th:only-of-type {\n",
              "        vertical-align: middle;\n",
              "    }\n",
              "\n",
              "    .dataframe tbody tr th {\n",
              "        vertical-align: top;\n",
              "    }\n",
              "\n",
              "    .dataframe thead th {\n",
              "        text-align: right;\n",
              "    }\n",
              "</style>\n",
              "<table border=\"1\" class=\"dataframe\">\n",
              "  <thead>\n",
              "    <tr style=\"text-align: right;\">\n",
              "      <th></th>\n",
              "      <th>verbo_inicial</th>\n",
              "      <th>substantivo</th>\n",
              "      <th>categoria</th>\n",
              "      <th>subcategoria</th>\n",
              "      <th>horas</th>\n",
              "    </tr>\n",
              "  </thead>\n",
              "  <tbody>\n",
              "    <tr>\n",
              "      <th>count</th>\n",
              "      <td>1042.000000</td>\n",
              "      <td>1042.000000</td>\n",
              "      <td>1042.000000</td>\n",
              "      <td>1042.000000</td>\n",
              "      <td>1042.000000</td>\n",
              "    </tr>\n",
              "    <tr>\n",
              "      <th>mean</th>\n",
              "      <td>15.911708</td>\n",
              "      <td>117.780230</td>\n",
              "      <td>1.675624</td>\n",
              "      <td>6.008637</td>\n",
              "      <td>1.065259</td>\n",
              "    </tr>\n",
              "    <tr>\n",
              "      <th>std</th>\n",
              "      <td>9.150565</td>\n",
              "      <td>58.774424</td>\n",
              "      <td>0.873542</td>\n",
              "      <td>3.802386</td>\n",
              "      <td>1.006970</td>\n",
              "    </tr>\n",
              "    <tr>\n",
              "      <th>min</th>\n",
              "      <td>1.000000</td>\n",
              "      <td>0.000000</td>\n",
              "      <td>1.000000</td>\n",
              "      <td>1.000000</td>\n",
              "      <td>0.000000</td>\n",
              "    </tr>\n",
              "    <tr>\n",
              "      <th>25%</th>\n",
              "      <td>8.000000</td>\n",
              "      <td>65.000000</td>\n",
              "      <td>1.000000</td>\n",
              "      <td>1.000000</td>\n",
              "      <td>0.000000</td>\n",
              "    </tr>\n",
              "    <tr>\n",
              "      <th>50%</th>\n",
              "      <td>17.500000</td>\n",
              "      <td>127.000000</td>\n",
              "      <td>1.000000</td>\n",
              "      <td>6.000000</td>\n",
              "      <td>1.000000</td>\n",
              "    </tr>\n",
              "    <tr>\n",
              "      <th>75%</th>\n",
              "      <td>25.000000</td>\n",
              "      <td>166.000000</td>\n",
              "      <td>3.000000</td>\n",
              "      <td>10.000000</td>\n",
              "      <td>2.000000</td>\n",
              "    </tr>\n",
              "    <tr>\n",
              "      <th>max</th>\n",
              "      <td>29.000000</td>\n",
              "      <td>197.000000</td>\n",
              "      <td>3.000000</td>\n",
              "      <td>12.000000</td>\n",
              "      <td>3.000000</td>\n",
              "    </tr>\n",
              "  </tbody>\n",
              "</table>\n",
              "</div>"
            ],
            "text/plain": [
              "       verbo_inicial  substantivo    categoria  subcategoria        horas\n",
              "count    1042.000000  1042.000000  1042.000000   1042.000000  1042.000000\n",
              "mean       15.911708   117.780230     1.675624      6.008637     1.065259\n",
              "std         9.150565    58.774424     0.873542      3.802386     1.006970\n",
              "min         1.000000     0.000000     1.000000      1.000000     0.000000\n",
              "25%         8.000000    65.000000     1.000000      1.000000     0.000000\n",
              "50%        17.500000   127.000000     1.000000      6.000000     1.000000\n",
              "75%        25.000000   166.000000     3.000000     10.000000     2.000000\n",
              "max        29.000000   197.000000     3.000000     12.000000     3.000000"
            ]
          },
          "metadata": {},
          "execution_count": 22
        }
      ]
    },
    {
      "cell_type": "markdown",
      "metadata": {
        "id": "Rt8gS2Z3xtEP"
      },
      "source": [
        "**Visualização dos Dados**"
      ]
    },
    {
      "cell_type": "code",
      "metadata": {
        "colab": {
          "base_uri": "https://localhost:8080/",
          "height": 743
        },
        "id": "JJBifG1yxv8z",
        "outputId": "054aaa9b-6f15-4ca6-a7e1-b31840a6f6ef"
      },
      "source": [
        "sns.pairplot(df, hue=\"horas\", diag_kind='hist')"
      ],
      "execution_count": null,
      "outputs": [
        {
          "output_type": "execute_result",
          "data": {
            "text/plain": [
              "<seaborn.axisgrid.PairGrid at 0x7fd3e5b3c690>"
            ]
          },
          "metadata": {},
          "execution_count": 23
        },
        {
          "output_type": "display_data",
          "data": {
            "image/png": "[encoded data removed]",
            "text/plain": [
              "<Figure size 762.375x720 with 20 Axes>"
            ]
          },
          "metadata": {
            "needs_background": "light"
          }
        }
      ]
    },
    {
      "cell_type": "code",
      "metadata": {
        "colab": {
          "base_uri": "https://localhost:8080/",
          "height": 341
        },
        "id": "k-tCydUny92u",
        "outputId": "8c9f4bac-83d8-4949-af63-d0afa0ae015d"
      },
      "source": [
        "sns.heatmap(df.corr(), annot=True)"
      ],
      "execution_count": null,
      "outputs": [
        {
          "output_type": "execute_result",
          "data": {
            "text/plain": [
              "<matplotlib.axes._subplots.AxesSubplot at 0x7fd3db992990>"
            ]
          },
          "metadata": {},
          "execution_count": 24
        },
        {
          "output_type": "display_data",
          "data": {
            "image/png": "[encoded data removed]",
            "text/plain": [
              "<Figure size 432x288 with 2 Axes>"
            ]
          },
          "metadata": {
            "needs_background": "light"
          }
        }
      ]
    },
    {
      "cell_type": "markdown",
      "metadata": {
        "id": "M6kkP5IWzm7p"
      },
      "source": [
        "**Selecionar Algoritmos e Criar Modelos, avaliando sua eficiência**"
      ]
    },
    {
      "cell_type": "code",
      "metadata": {
        "colab": {
          "base_uri": "https://localhost:8080/",
          "height": 204
        },
        "id": "pJmDHST5zv3s",
        "outputId": "22be8145-5529-4bb8-8ee4-5419c86ec83d"
      },
      "source": [
        "y = df[['horas']] # variável alvo (target) \n",
        "X = df.iloc[:, 0:4] # variáveis descritivas (features)\n",
        "X.head()"
      ],
      "execution_count": null,
      "outputs": [
        {
          "output_type": "execute_result",
          "data": {
            "text/html": [
              "<div>\n",
              "<style scoped>\n",
              "    .dataframe tbody tr th:only-of-type {\n",
              "        vertical-align: middle;\n",
              "    }\n",
              "\n",
              "    .dataframe tbody tr th {\n",
              "        vertical-align: top;\n",
              "    }\n",
              "\n",
              "    .dataframe thead th {\n",
              "        text-align: right;\n",
              "    }\n",
              "</style>\n",
              "<table border=\"1\" class=\"dataframe\">\n",
              "  <thead>\n",
              "    <tr style=\"text-align: right;\">\n",
              "      <th></th>\n",
              "      <th>verbo_inicial</th>\n",
              "      <th>substantivo</th>\n",
              "      <th>categoria</th>\n",
              "      <th>subcategoria</th>\n",
              "    </tr>\n",
              "  </thead>\n",
              "  <tbody>\n",
              "    <tr>\n",
              "      <th>0</th>\n",
              "      <td>1</td>\n",
              "      <td>12.0</td>\n",
              "      <td>3</td>\n",
              "      <td>10</td>\n",
              "    </tr>\n",
              "    <tr>\n",
              "      <th>1</th>\n",
              "      <td>1</td>\n",
              "      <td>12.0</td>\n",
              "      <td>1</td>\n",
              "      <td>1</td>\n",
              "    </tr>\n",
              "    <tr>\n",
              "      <th>2</th>\n",
              "      <td>1</td>\n",
              "      <td>15.0</td>\n",
              "      <td>1</td>\n",
              "      <td>4</td>\n",
              "    </tr>\n",
              "    <tr>\n",
              "      <th>3</th>\n",
              "      <td>1</td>\n",
              "      <td>15.0</td>\n",
              "      <td>1</td>\n",
              "      <td>1</td>\n",
              "    </tr>\n",
              "    <tr>\n",
              "      <th>4</th>\n",
              "      <td>1</td>\n",
              "      <td>15.0</td>\n",
              "      <td>1</td>\n",
              "      <td>1</td>\n",
              "    </tr>\n",
              "  </tbody>\n",
              "</table>\n",
              "</div>"
            ],
            "text/plain": [
              "   verbo_inicial  substantivo  categoria  subcategoria\n",
              "0              1         12.0          3            10\n",
              "1              1         12.0          1             1\n",
              "2              1         15.0          1             4\n",
              "3              1         15.0          1             1\n",
              "4              1         15.0          1             1"
            ]
          },
          "metadata": {},
          "execution_count": 23
        }
      ]
    },
    {
      "cell_type": "markdown",
      "metadata": {
        "id": "qoMvv6Keou0K"
      },
      "source": [
        "Separação dos dados de treino e teste"
      ]
    },
    {
      "cell_type": "code",
      "metadata": {
        "colab": {
          "base_uri": "https://localhost:8080/"
        },
        "id": "eLwLar9noyC8",
        "outputId": "2db471e5-b3ab-4266-e2f9-edde64635d1b"
      },
      "source": [
        "X_train, X_test, y_train, y_test = train_test_split(X, y, test_size=0.3, random_state=0, stratify=y)\n",
        "np.shape(y_train)"
      ],
      "execution_count": null,
      "outputs": [
        {
          "output_type": "execute_result",
          "data": {
            "text/plain": [
              "(729, 1)"
            ]
          },
          "metadata": {},
          "execution_count": 24
        }
      ]
    },
    {
      "cell_type": "markdown",
      "metadata": {
        "id": "ZQpwzFMYpw3-"
      },
      "source": [
        "**Modelos Baseados em Informação (Criação de uma Árvore de Decisão)**"
      ]
    },
    {
      "cell_type": "code",
      "metadata": {
        "id": "LYr6O4ckqP6m"
      },
      "source": [
        "#Chamando a função da Árvore de Decisão\n",
        "dectree = tree.DecisionTreeClassifier()"
      ],
      "execution_count": null,
      "outputs": []
    },
    {
      "cell_type": "code",
      "metadata": {
        "id": "d6I8_3dou_R0",
        "colab": {
          "base_uri": "https://localhost:8080/"
        },
        "outputId": "62578ddf-52e8-4574-e15e-fc5c220889cd"
      },
      "source": [
        "dectree.fit(X_train, np.ravel(y_train))"
      ],
      "execution_count": null,
      "outputs": [
        {
          "output_type": "execute_result",
          "data": {
            "text/plain": [
              "DecisionTreeClassifier(ccp_alpha=0.0, class_weight=None, criterion='gini',\n",
              "                       max_depth=None, max_features=None, max_leaf_nodes=None,\n",
              "                       min_impurity_decrease=0.0, min_impurity_split=None,\n",
              "                       min_samples_leaf=1, min_samples_split=2,\n",
              "                       min_weight_fraction_leaf=0.0, presort='deprecated',\n",
              "                       random_state=None, splitter='best')"
            ]
          },
          "metadata": {},
          "execution_count": 26
        }
      ]
    },
    {
      "cell_type": "code",
      "metadata": {
        "id": "Vhf-XBFmrcUR"
      },
      "source": [
        "pred = dectree.predict(X_test.iloc[0:10])"
      ],
      "execution_count": null,
      "outputs": []
    },
    {
      "cell_type": "code",
      "metadata": {
        "colab": {
          "base_uri": "https://localhost:8080/"
        },
        "id": "9MV08YqljbFT",
        "outputId": "59cb32dd-c4c8-4bee-d80e-b970d9da677b"
      },
      "source": [
        "print(pred)"
      ],
      "execution_count": null,
      "outputs": [
        {
          "output_type": "stream",
          "name": "stdout",
          "text": [
            "[0 2 3 1 0 0 1 0 3 2]\n"
          ]
        }
      ]
    },
    {
      "cell_type": "code",
      "metadata": {
        "colab": {
          "base_uri": "https://localhost:8080/",
          "height": 359
        },
        "id": "fKs2PRoErq7t",
        "outputId": "3b961dfb-6d64-4c7d-acb6-1e5b809573cb"
      },
      "source": [
        "y_test[0:10]"
      ],
      "execution_count": null,
      "outputs": [
        {
          "output_type": "execute_result",
          "data": {
            "text/html": [
              "<div>\n",
              "<style scoped>\n",
              "    .dataframe tbody tr th:only-of-type {\n",
              "        vertical-align: middle;\n",
              "    }\n",
              "\n",
              "    .dataframe tbody tr th {\n",
              "        vertical-align: top;\n",
              "    }\n",
              "\n",
              "    .dataframe thead th {\n",
              "        text-align: right;\n",
              "    }\n",
              "</style>\n",
              "<table border=\"1\" class=\"dataframe\">\n",
              "  <thead>\n",
              "    <tr style=\"text-align: right;\">\n",
              "      <th></th>\n",
              "      <th>horas</th>\n",
              "    </tr>\n",
              "  </thead>\n",
              "  <tbody>\n",
              "    <tr>\n",
              "      <th>884</th>\n",
              "      <td>0</td>\n",
              "    </tr>\n",
              "    <tr>\n",
              "      <th>135</th>\n",
              "      <td>2</td>\n",
              "    </tr>\n",
              "    <tr>\n",
              "      <th>377</th>\n",
              "      <td>2</td>\n",
              "    </tr>\n",
              "    <tr>\n",
              "      <th>944</th>\n",
              "      <td>0</td>\n",
              "    </tr>\n",
              "    <tr>\n",
              "      <th>297</th>\n",
              "      <td>0</td>\n",
              "    </tr>\n",
              "    <tr>\n",
              "      <th>946</th>\n",
              "      <td>1</td>\n",
              "    </tr>\n",
              "    <tr>\n",
              "      <th>591</th>\n",
              "      <td>0</td>\n",
              "    </tr>\n",
              "    <tr>\n",
              "      <th>60</th>\n",
              "      <td>0</td>\n",
              "    </tr>\n",
              "    <tr>\n",
              "      <th>158</th>\n",
              "      <td>3</td>\n",
              "    </tr>\n",
              "    <tr>\n",
              "      <th>774</th>\n",
              "      <td>2</td>\n",
              "    </tr>\n",
              "  </tbody>\n",
              "</table>\n",
              "</div>"
            ],
            "text/plain": [
              "     horas\n",
              "884      0\n",
              "135      2\n",
              "377      2\n",
              "944      0\n",
              "297      0\n",
              "946      1\n",
              "591      0\n",
              "60       0\n",
              "158      3\n",
              "774      2"
            ]
          },
          "metadata": {},
          "execution_count": 29
        }
      ]
    },
    {
      "cell_type": "code",
      "metadata": {
        "colab": {
          "base_uri": "https://localhost:8080/"
        },
        "id": "CZKzroDHr_xs",
        "outputId": "94d411f7-c6d6-41f6-dd3a-ab962cc24a59"
      },
      "source": [
        "dectree.score(X_test, y_test)"
      ],
      "execution_count": null,
      "outputs": [
        {
          "output_type": "execute_result",
          "data": {
            "text/plain": [
              "0.5431309904153354"
            ]
          },
          "metadata": {},
          "execution_count": 30
        }
      ]
    },
    {
      "cell_type": "code",
      "metadata": {
        "id": "vpY0wIgzsYp2"
      },
      "source": [
        "previsoesdectree = dectree.predict(X_test[['verbo_inicial', 'substantivo', 'categoria', 'subcategoria']])"
      ],
      "execution_count": null,
      "outputs": []
    },
    {
      "cell_type": "code",
      "metadata": {
        "id": "FJFQ8OUBsq3C"
      },
      "source": [
        "alvosdectree = df['horas']"
      ],
      "execution_count": null,
      "outputs": []
    },
    {
      "cell_type": "code",
      "metadata": {
        "colab": {
          "base_uri": "https://localhost:8080/"
        },
        "id": "UjSTeVG7tQi-",
        "outputId": "ce670d69-2a02-4b12-f6ba-c6db20b9b1fd"
      },
      "source": [
        "confusion_matrix(y_test, previsoesdectree)"
      ],
      "execution_count": null,
      "outputs": [
        {
          "output_type": "execute_result",
          "data": {
            "text/plain": [
              "array([[69, 28,  8,  5],\n",
              "       [28, 61, 14,  8],\n",
              "       [ 7, 12, 25,  9],\n",
              "       [ 8,  7,  9, 15]])"
            ]
          },
          "metadata": {},
          "execution_count": 33
        }
      ]
    },
    {
      "cell_type": "code",
      "metadata": {
        "colab": {
          "base_uri": "https://localhost:8080/"
        },
        "id": "mR5EQAUitksc",
        "outputId": "20057d46-8b12-4d99-f7bb-7938905a0486"
      },
      "source": [
        "print(classification_report(y_test, previsoesdectree))"
      ],
      "execution_count": null,
      "outputs": [
        {
          "output_type": "stream",
          "name": "stdout",
          "text": [
            "              precision    recall  f1-score   support\n",
            "\n",
            "           0       0.62      0.63      0.62       110\n",
            "           1       0.56      0.55      0.56       111\n",
            "           2       0.45      0.47      0.46        53\n",
            "           3       0.41      0.38      0.39        39\n",
            "\n",
            "    accuracy                           0.54       313\n",
            "   macro avg       0.51      0.51      0.51       313\n",
            "weighted avg       0.54      0.54      0.54       313\n",
            "\n"
          ]
        }
      ]
    },
    {
      "cell_type": "markdown",
      "metadata": {
        "id": "o2sNxoRMuo9w"
      },
      "source": [
        "**Modelos Baseados em Similaridade (KNN)**"
      ]
    },
    {
      "cell_type": "markdown",
      "metadata": {
        "id": "O3o6huia3wpV"
      },
      "source": [
        ""
      ]
    },
    {
      "cell_type": "code",
      "metadata": {
        "id": "P53IdMZTu2LB"
      },
      "source": [
        "#Chamando a função do KNN\n",
        "knn = KNeighborsClassifier()"
      ],
      "execution_count": null,
      "outputs": []
    },
    {
      "cell_type": "code",
      "metadata": {
        "id": "V04GYChKvQXb",
        "colab": {
          "base_uri": "https://localhost:8080/"
        },
        "outputId": "cd48d221-4e4d-4e8c-b598-f247cc87653b"
      },
      "source": [
        "knn.fit(X_train, np.ravel(y_train))"
      ],
      "execution_count": null,
      "outputs": [
        {
          "output_type": "execute_result",
          "data": {
            "text/plain": [
              "KNeighborsClassifier(algorithm='auto', leaf_size=30, metric='minkowski',\n",
              "                     metric_params=None, n_jobs=None, n_neighbors=5, p=2,\n",
              "                     weights='uniform')"
            ]
          },
          "metadata": {},
          "execution_count": 38
        }
      ]
    },
    {
      "cell_type": "code",
      "metadata": {
        "colab": {
          "base_uri": "https://localhost:8080/"
        },
        "id": "gX-G3tqOvmGN",
        "outputId": "5006981d-64dd-428e-9793-a330eebedc45"
      },
      "source": [
        "knn.predict(X_test.iloc[0:10])"
      ],
      "execution_count": null,
      "outputs": [
        {
          "output_type": "execute_result",
          "data": {
            "text/plain": [
              "array([0, 0, 0, 0, 0, 0, 0, 1, 0, 2])"
            ]
          },
          "metadata": {},
          "execution_count": 40
        }
      ]
    },
    {
      "cell_type": "code",
      "metadata": {
        "colab": {
          "base_uri": "https://localhost:8080/",
          "height": 359
        },
        "id": "yBBsWvk_v48u",
        "outputId": "69340cbf-7b1b-4a80-80d3-b6162099063a"
      },
      "source": [
        "y_test[0:10]"
      ],
      "execution_count": null,
      "outputs": [
        {
          "output_type": "execute_result",
          "data": {
            "text/html": [
              "<div>\n",
              "<style scoped>\n",
              "    .dataframe tbody tr th:only-of-type {\n",
              "        vertical-align: middle;\n",
              "    }\n",
              "\n",
              "    .dataframe tbody tr th {\n",
              "        vertical-align: top;\n",
              "    }\n",
              "\n",
              "    .dataframe thead th {\n",
              "        text-align: right;\n",
              "    }\n",
              "</style>\n",
              "<table border=\"1\" class=\"dataframe\">\n",
              "  <thead>\n",
              "    <tr style=\"text-align: right;\">\n",
              "      <th></th>\n",
              "      <th>horas</th>\n",
              "    </tr>\n",
              "  </thead>\n",
              "  <tbody>\n",
              "    <tr>\n",
              "      <th>884</th>\n",
              "      <td>0</td>\n",
              "    </tr>\n",
              "    <tr>\n",
              "      <th>135</th>\n",
              "      <td>2</td>\n",
              "    </tr>\n",
              "    <tr>\n",
              "      <th>377</th>\n",
              "      <td>2</td>\n",
              "    </tr>\n",
              "    <tr>\n",
              "      <th>944</th>\n",
              "      <td>0</td>\n",
              "    </tr>\n",
              "    <tr>\n",
              "      <th>297</th>\n",
              "      <td>0</td>\n",
              "    </tr>\n",
              "    <tr>\n",
              "      <th>946</th>\n",
              "      <td>1</td>\n",
              "    </tr>\n",
              "    <tr>\n",
              "      <th>591</th>\n",
              "      <td>0</td>\n",
              "    </tr>\n",
              "    <tr>\n",
              "      <th>60</th>\n",
              "      <td>0</td>\n",
              "    </tr>\n",
              "    <tr>\n",
              "      <th>158</th>\n",
              "      <td>3</td>\n",
              "    </tr>\n",
              "    <tr>\n",
              "      <th>774</th>\n",
              "      <td>2</td>\n",
              "    </tr>\n",
              "  </tbody>\n",
              "</table>\n",
              "</div>"
            ],
            "text/plain": [
              "     horas\n",
              "884      0\n",
              "135      2\n",
              "377      2\n",
              "944      0\n",
              "297      0\n",
              "946      1\n",
              "591      0\n",
              "60       0\n",
              "158      3\n",
              "774      2"
            ]
          },
          "metadata": {},
          "execution_count": 41
        }
      ]
    },
    {
      "cell_type": "code",
      "metadata": {
        "colab": {
          "base_uri": "https://localhost:8080/"
        },
        "id": "kdD1h7ePwQ1W",
        "outputId": "e4f5cb79-0cc5-4ee5-84ad-0f735f644237"
      },
      "source": [
        "knn.score(X_test, y_test)"
      ],
      "execution_count": null,
      "outputs": [
        {
          "output_type": "execute_result",
          "data": {
            "text/plain": [
              "0.5143769968051118"
            ]
          },
          "metadata": {},
          "execution_count": 42
        }
      ]
    },
    {
      "cell_type": "code",
      "metadata": {
        "id": "GZl4YroFw1fe"
      },
      "source": [
        "previsoesknn = knn.predict(X_test[['verbo_inicial', 'substantivo', 'categoria', 'subcategoria']])"
      ],
      "execution_count": null,
      "outputs": []
    },
    {
      "cell_type": "code",
      "metadata": {
        "id": "lokSxsnFxUGc"
      },
      "source": [
        "alvosknn = df['horas']"
      ],
      "execution_count": null,
      "outputs": []
    },
    {
      "cell_type": "code",
      "metadata": {
        "colab": {
          "base_uri": "https://localhost:8080/"
        },
        "id": "y9wqzROUxnZV",
        "outputId": "4bb6c180-e3b3-4d74-ae73-952d1957fcd4"
      },
      "source": [
        "confusion_matrix(y_test, previsoesknn)"
      ],
      "execution_count": null,
      "outputs": [
        {
          "output_type": "execute_result",
          "data": {
            "text/plain": [
              "array([[80, 22,  4,  4],\n",
              "       [35, 57, 15,  4],\n",
              "       [15, 14, 20,  4],\n",
              "       [17, 13,  5,  4]])"
            ]
          },
          "metadata": {},
          "execution_count": 45
        }
      ]
    },
    {
      "cell_type": "code",
      "metadata": {
        "colab": {
          "base_uri": "https://localhost:8080/"
        },
        "id": "tmrZ7YY7yD9g",
        "outputId": "bae8a8eb-d995-4c7d-d799-5d57877ff02c"
      },
      "source": [
        "print(classification_report(y_test, previsoesknn))"
      ],
      "execution_count": null,
      "outputs": [
        {
          "output_type": "stream",
          "name": "stdout",
          "text": [
            "              precision    recall  f1-score   support\n",
            "\n",
            "           0       0.54      0.73      0.62       110\n",
            "           1       0.54      0.51      0.53       111\n",
            "           2       0.45      0.38      0.41        53\n",
            "           3       0.25      0.10      0.15        39\n",
            "\n",
            "    accuracy                           0.51       313\n",
            "   macro avg       0.45      0.43      0.43       313\n",
            "weighted avg       0.49      0.51      0.49       313\n",
            "\n"
          ]
        }
      ]
    },
    {
      "cell_type": "markdown",
      "metadata": {
        "id": "Wct-hQuM00Qs"
      },
      "source": [
        "**Modelos Baseados em Probabilidade (Naive Bayes)**"
      ]
    },
    {
      "cell_type": "code",
      "metadata": {
        "colab": {
          "base_uri": "https://localhost:8080/"
        },
        "id": "78iyRxTt0viV",
        "outputId": "220e83ae-70a0-4a2f-bab9-abf85ede116f"
      },
      "source": [
        "#Chamando a função de Naive Bayes\n",
        "naiveb = GaussianNB()"
      ],
      "execution_count": null,
      "outputs": [
        {
          "output_type": "execute_result",
          "data": {
            "text/plain": [
              "GaussianNB(priors=None, var_smoothing=1e-09)"
            ]
          },
          "metadata": {},
          "execution_count": 67
        }
      ]
    },
    {
      "cell_type": "code",
      "metadata": {
        "id": "kzZQz45l38dT"
      },
      "source": [
        "naiveb.fit(X_train, np.ravel(y_train))"
      ],
      "execution_count": null,
      "outputs": []
    },
    {
      "cell_type": "code",
      "metadata": {
        "colab": {
          "base_uri": "https://localhost:8080/"
        },
        "id": "7HnMzo8z3cjW",
        "outputId": "c3b1b51f-92f1-41e2-f891-533fba9e6480"
      },
      "source": [
        "naiveb.predict(X_test.iloc[0:10])"
      ],
      "execution_count": null,
      "outputs": [
        {
          "output_type": "execute_result",
          "data": {
            "text/plain": [
              "array([0, 3, 1, 0, 0, 0, 0, 0, 0, 0])"
            ]
          },
          "metadata": {},
          "execution_count": 51
        }
      ]
    },
    {
      "cell_type": "code",
      "metadata": {
        "colab": {
          "base_uri": "https://localhost:8080/",
          "height": 359
        },
        "id": "UdONYmAT3jbM",
        "outputId": "e8c1d370-835e-48d7-8da9-1e357f6753eb"
      },
      "source": [
        "y_test[0:10]"
      ],
      "execution_count": null,
      "outputs": [
        {
          "output_type": "execute_result",
          "data": {
            "text/html": [
              "<div>\n",
              "<style scoped>\n",
              "    .dataframe tbody tr th:only-of-type {\n",
              "        vertical-align: middle;\n",
              "    }\n",
              "\n",
              "    .dataframe tbody tr th {\n",
              "        vertical-align: top;\n",
              "    }\n",
              "\n",
              "    .dataframe thead th {\n",
              "        text-align: right;\n",
              "    }\n",
              "</style>\n",
              "<table border=\"1\" class=\"dataframe\">\n",
              "  <thead>\n",
              "    <tr style=\"text-align: right;\">\n",
              "      <th></th>\n",
              "      <th>horas</th>\n",
              "    </tr>\n",
              "  </thead>\n",
              "  <tbody>\n",
              "    <tr>\n",
              "      <th>884</th>\n",
              "      <td>0</td>\n",
              "    </tr>\n",
              "    <tr>\n",
              "      <th>135</th>\n",
              "      <td>2</td>\n",
              "    </tr>\n",
              "    <tr>\n",
              "      <th>377</th>\n",
              "      <td>2</td>\n",
              "    </tr>\n",
              "    <tr>\n",
              "      <th>944</th>\n",
              "      <td>0</td>\n",
              "    </tr>\n",
              "    <tr>\n",
              "      <th>297</th>\n",
              "      <td>0</td>\n",
              "    </tr>\n",
              "    <tr>\n",
              "      <th>946</th>\n",
              "      <td>1</td>\n",
              "    </tr>\n",
              "    <tr>\n",
              "      <th>591</th>\n",
              "      <td>0</td>\n",
              "    </tr>\n",
              "    <tr>\n",
              "      <th>60</th>\n",
              "      <td>0</td>\n",
              "    </tr>\n",
              "    <tr>\n",
              "      <th>158</th>\n",
              "      <td>3</td>\n",
              "    </tr>\n",
              "    <tr>\n",
              "      <th>774</th>\n",
              "      <td>2</td>\n",
              "    </tr>\n",
              "  </tbody>\n",
              "</table>\n",
              "</div>"
            ],
            "text/plain": [
              "     horas\n",
              "884      0\n",
              "135      2\n",
              "377      2\n",
              "944      0\n",
              "297      0\n",
              "946      1\n",
              "591      0\n",
              "60       0\n",
              "158      3\n",
              "774      2"
            ]
          },
          "metadata": {},
          "execution_count": 52
        }
      ]
    },
    {
      "cell_type": "code",
      "metadata": {
        "colab": {
          "base_uri": "https://localhost:8080/"
        },
        "id": "ZxW5XmD23sKF",
        "outputId": "3bf90846-cd92-4865-f77a-2a11a2d7691f"
      },
      "source": [
        "naiveb.score(X_test, y_test)"
      ],
      "execution_count": null,
      "outputs": [
        {
          "output_type": "execute_result",
          "data": {
            "text/plain": [
              "0.4217252396166134"
            ]
          },
          "metadata": {},
          "execution_count": 53
        }
      ]
    },
    {
      "cell_type": "code",
      "metadata": {
        "id": "KA1maDNi38nM"
      },
      "source": [
        "previsoesnaiveb = naiveb.predict(X_test[['verbo_inicial', 'substantivo', 'categoria', 'subcategoria']])"
      ],
      "execution_count": null,
      "outputs": []
    },
    {
      "cell_type": "code",
      "metadata": {
        "id": "wVe_lQTQ4JH3"
      },
      "source": [
        "alvosnaiveb = df['horas']"
      ],
      "execution_count": null,
      "outputs": []
    },
    {
      "cell_type": "code",
      "metadata": {
        "colab": {
          "base_uri": "https://localhost:8080/"
        },
        "id": "NJnn5zEt4SR-",
        "outputId": "901f5aa9-335f-4f21-cd80-a7040016a379"
      },
      "source": [
        "confusion_matrix(y_test, previsoesnaiveb)"
      ],
      "execution_count": null,
      "outputs": [
        {
          "output_type": "execute_result",
          "data": {
            "text/plain": [
              "array([[52, 37, 16,  5],\n",
              "       [25, 65, 16,  5],\n",
              "       [25,  8, 11,  9],\n",
              "       [11, 17,  7,  4]])"
            ]
          },
          "metadata": {},
          "execution_count": 56
        }
      ]
    },
    {
      "cell_type": "code",
      "metadata": {
        "colab": {
          "base_uri": "https://localhost:8080/"
        },
        "id": "Gwr4UqEH4fky",
        "outputId": "ea594177-7ad8-4be4-d7ea-b546fd3e3bb9"
      },
      "source": [
        "print(classification_report(y_test, previsoesnaiveb))"
      ],
      "execution_count": null,
      "outputs": [
        {
          "output_type": "stream",
          "name": "stdout",
          "text": [
            "              precision    recall  f1-score   support\n",
            "\n",
            "           0       0.46      0.47      0.47       110\n",
            "           1       0.51      0.59      0.55       111\n",
            "           2       0.22      0.21      0.21        53\n",
            "           3       0.17      0.10      0.13        39\n",
            "\n",
            "    accuracy                           0.42       313\n",
            "   macro avg       0.34      0.34      0.34       313\n",
            "weighted avg       0.40      0.42      0.41       313\n",
            "\n"
          ]
        }
      ]
    },
    {
      "cell_type": "markdown",
      "metadata": {
        "id": "tnFpsc-35s_Q"
      },
      "source": [
        "**Uso do XGBoost**"
      ]
    },
    {
      "cell_type": "code",
      "metadata": {
        "id": "RBrtDGeH5xYs"
      },
      "source": [
        "#Chamando a função do XGBoost\n",
        "xgb = XGBClassifier()"
      ],
      "execution_count": null,
      "outputs": []
    },
    {
      "cell_type": "code",
      "metadata": {
        "id": "iJSR2S_jvco8",
        "colab": {
          "base_uri": "https://localhost:8080/"
        },
        "outputId": "bba2b1a3-d644-4e7a-d9aa-d23fc48a221c"
      },
      "source": [
        "xgb.fit(X_train, np.ravel(y_train))"
      ],
      "execution_count": null,
      "outputs": [
        {
          "output_type": "execute_result",
          "data": {
            "text/plain": [
              "XGBClassifier(base_score=0.5, booster='gbtree', colsample_bylevel=1,\n",
              "              colsample_bynode=1, colsample_bytree=1, gamma=0,\n",
              "              learning_rate=0.1, max_delta_step=0, max_depth=3,\n",
              "              min_child_weight=1, missing=None, n_estimators=100, n_jobs=1,\n",
              "              nthread=None, objective='multi:softprob', random_state=0,\n",
              "              reg_alpha=0, reg_lambda=1, scale_pos_weight=1, seed=None,\n",
              "              silent=None, subsample=1, verbosity=1)"
            ]
          },
          "metadata": {},
          "execution_count": 59
        }
      ]
    },
    {
      "cell_type": "code",
      "metadata": {
        "colab": {
          "base_uri": "https://localhost:8080/"
        },
        "id": "0GlxbWDl6Lqi",
        "outputId": "e5c5a220-c842-4107-ab12-7f7155799967"
      },
      "source": [
        "xgb.predict(X_test.iloc[0:10])"
      ],
      "execution_count": null,
      "outputs": [
        {
          "output_type": "execute_result",
          "data": {
            "text/plain": [
              "array([0, 2, 1, 0, 0, 0, 0, 0, 3, 2])"
            ]
          },
          "metadata": {},
          "execution_count": 60
        }
      ]
    },
    {
      "cell_type": "code",
      "metadata": {
        "colab": {
          "base_uri": "https://localhost:8080/",
          "height": 359
        },
        "id": "qZM7Ss-m6ZVA",
        "outputId": "421d4336-9c94-4494-f0a9-81c083f2e1d6"
      },
      "source": [
        "y_test[0:10]"
      ],
      "execution_count": null,
      "outputs": [
        {
          "output_type": "execute_result",
          "data": {
            "text/html": [
              "<div>\n",
              "<style scoped>\n",
              "    .dataframe tbody tr th:only-of-type {\n",
              "        vertical-align: middle;\n",
              "    }\n",
              "\n",
              "    .dataframe tbody tr th {\n",
              "        vertical-align: top;\n",
              "    }\n",
              "\n",
              "    .dataframe thead th {\n",
              "        text-align: right;\n",
              "    }\n",
              "</style>\n",
              "<table border=\"1\" class=\"dataframe\">\n",
              "  <thead>\n",
              "    <tr style=\"text-align: right;\">\n",
              "      <th></th>\n",
              "      <th>horas</th>\n",
              "    </tr>\n",
              "  </thead>\n",
              "  <tbody>\n",
              "    <tr>\n",
              "      <th>884</th>\n",
              "      <td>0</td>\n",
              "    </tr>\n",
              "    <tr>\n",
              "      <th>135</th>\n",
              "      <td>2</td>\n",
              "    </tr>\n",
              "    <tr>\n",
              "      <th>377</th>\n",
              "      <td>2</td>\n",
              "    </tr>\n",
              "    <tr>\n",
              "      <th>944</th>\n",
              "      <td>0</td>\n",
              "    </tr>\n",
              "    <tr>\n",
              "      <th>297</th>\n",
              "      <td>0</td>\n",
              "    </tr>\n",
              "    <tr>\n",
              "      <th>946</th>\n",
              "      <td>1</td>\n",
              "    </tr>\n",
              "    <tr>\n",
              "      <th>591</th>\n",
              "      <td>0</td>\n",
              "    </tr>\n",
              "    <tr>\n",
              "      <th>60</th>\n",
              "      <td>0</td>\n",
              "    </tr>\n",
              "    <tr>\n",
              "      <th>158</th>\n",
              "      <td>3</td>\n",
              "    </tr>\n",
              "    <tr>\n",
              "      <th>774</th>\n",
              "      <td>2</td>\n",
              "    </tr>\n",
              "  </tbody>\n",
              "</table>\n",
              "</div>"
            ],
            "text/plain": [
              "     horas\n",
              "884      0\n",
              "135      2\n",
              "377      2\n",
              "944      0\n",
              "297      0\n",
              "946      1\n",
              "591      0\n",
              "60       0\n",
              "158      3\n",
              "774      2"
            ]
          },
          "metadata": {},
          "execution_count": 61
        }
      ]
    },
    {
      "cell_type": "code",
      "metadata": {
        "colab": {
          "base_uri": "https://localhost:8080/"
        },
        "id": "iZVEUHao8-QN",
        "outputId": "292e71ec-1727-4ba0-84dd-357c3bba9e32"
      },
      "source": [
        "xgb.score(X_test, y_test)"
      ],
      "execution_count": null,
      "outputs": [
        {
          "output_type": "execute_result",
          "data": {
            "text/plain": [
              "0.5335463258785943"
            ]
          },
          "metadata": {},
          "execution_count": 62
        }
      ]
    },
    {
      "cell_type": "code",
      "metadata": {
        "id": "UoR9PkR39-n6"
      },
      "source": [
        "previsoesxgb = xgb.predict(X_test[['verbo_inicial', 'substantivo', 'categoria', 'subcategoria']])"
      ],
      "execution_count": null,
      "outputs": []
    },
    {
      "cell_type": "code",
      "metadata": {
        "id": "bWz0bhq8-Ezf"
      },
      "source": [
        "alvosxgb = df['horas']"
      ],
      "execution_count": null,
      "outputs": []
    },
    {
      "cell_type": "code",
      "metadata": {
        "colab": {
          "base_uri": "https://localhost:8080/"
        },
        "id": "bfjJR0swce-c",
        "outputId": "6e284973-870f-4b79-9e0a-cf54e9d45435"
      },
      "source": [
        "confusion_matrix(y_test, previsoesxgb)"
      ],
      "execution_count": null,
      "outputs": [
        {
          "output_type": "execute_result",
          "data": {
            "text/plain": [
              "array([[69, 31,  6,  4],\n",
              "       [33, 64,  6,  8],\n",
              "       [ 6, 16, 21, 10],\n",
              "       [ 5, 16,  5, 13]])"
            ]
          },
          "metadata": {},
          "execution_count": 65
        }
      ]
    },
    {
      "cell_type": "code",
      "metadata": {
        "colab": {
          "base_uri": "https://localhost:8080/"
        },
        "id": "-DxZ3ZIB-K3f",
        "outputId": "c8e96ed7-6451-495c-8216-3ba780b00844"
      },
      "source": [
        "print(classification_report(y_test, previsoesxgb))"
      ],
      "execution_count": null,
      "outputs": [
        {
          "output_type": "stream",
          "name": "stdout",
          "text": [
            "              precision    recall  f1-score   support\n",
            "\n",
            "           0       0.61      0.63      0.62       110\n",
            "           1       0.50      0.58      0.54       111\n",
            "           2       0.55      0.40      0.46        53\n",
            "           3       0.37      0.33      0.35        39\n",
            "\n",
            "    accuracy                           0.53       313\n",
            "   macro avg       0.51      0.48      0.49       313\n",
            "weighted avg       0.53      0.53      0.53       313\n",
            "\n"
          ]
        }
      ]
    },
    {
      "cell_type": "code",
      "metadata": {
        "colab": {
          "base_uri": "https://localhost:8080/"
        },
        "id": "TuzuNjEFtqxd",
        "outputId": "f03ce6a1-5467-41e3-a31d-eb6459cad790"
      },
      "source": [
        "dump(dectree, 'tasks_classifier.pkl')"
      ],
      "execution_count": null,
      "outputs": [
        {
          "output_type": "execute_result",
          "data": {
            "text/plain": [
              "['tasks_classifier.pkl']"
            ]
          },
          "metadata": {
            "tags": []
          },
          "execution_count": 476
        }
      ]
    },
    {
      "cell_type": "code",
      "metadata": {
        "id": "CGQ1T-1YuopC"
      },
      "source": [
        "model = load('tasks_classifier.pkl')"
      ],
      "execution_count": null,
      "outputs": []
    }
  ]
}